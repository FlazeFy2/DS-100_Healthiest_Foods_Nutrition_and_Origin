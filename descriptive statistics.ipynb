{
 "cells": [
  {
   "cell_type": "code",
   "execution_count": 4,
   "id": "b55570e3-f02d-4e10-a944-6fb2b5d12cf4",
   "metadata": {},
   "outputs": [
    {
     "name": "stdout",
     "output_type": "stream",
     "text": [
      "Max of Calories : 320\n",
      "Min of Calories : 1\n",
      "Range of Calories : 319\n",
      "Mean of Calories : 83.48\n",
      "Mode of Calories : 4\n",
      "Variance of Calories : 5716.83\n",
      "Standard Deviance of Calories : 75.61\n",
      "\n",
      "Max of Protein (G) : 22.7\n",
      "Min of Protein (G) : 0.0\n",
      "Range of Protein (G) : 22.7\n",
      "Mean of Protein (G) : 4.36\n",
      "Mode of Protein (G) : 1.1\n",
      "Variance of Protein (G) : 34.98\n",
      "Standard Deviance of Protein (G) : 5.91\n",
      "\n",
      "Max of Fiber (G) : 15.6\n",
      "Min of Fiber (G) : 0.0\n",
      "Range of Fiber (G) : 15.6\n",
      "Mean of Fiber (G) : 3.03\n",
      "Mode of Fiber (G) : 0.0\n",
      "Variance of Fiber (G) : 11.39\n",
      "Standard Deviance of Fiber (G) : 3.37\n",
      "\n",
      "Max of Vitamin C (Mg) : 190.0\n",
      "Min of Vitamin C (Mg) : 0.0\n",
      "Range of Vitamin C (Mg) : 190.0\n",
      "Mean of Vitamin C (Mg) : 20.49\n",
      "Mode of Vitamin C (Mg) : 0.0\n",
      "Variance of Vitamin C (Mg) : 1204.42\n",
      "Standard Deviance of Vitamin C (Mg) : 34.7\n",
      "\n",
      "Max of Antioxidant Score : 131420\n",
      "Min of Antioxidant Score : 0\n",
      "Range of Antioxidant Score : 131420\n",
      "Mean of Antioxidant Score : 6107.46\n",
      "Mode of Antioxidant Score : 1770\n",
      "Variance of Antioxidant Score : 354615244.15\n",
      "Standard Deviance of Antioxidant Score : 18831.23\n",
      "\n"
     ]
    }
   ],
   "source": [
    "import pandas as pd\n",
    "import statistics\n",
    "import numpy as np\n",
    "\n",
    "# Declaration\n",
    "data = pd.read_csv(\"Top 100 Healthiest Food in the World.csv\")\n",
    "\n",
    "target_col = ['Calories','Protein (g)','Fiber (g)','Vitamin C (mg)','Antioxidant Score']\n",
    "\n",
    "for dt in target_col:\n",
    "    # Convert to int\n",
    "    data[dt] = pd.to_numeric(data[dt], errors='coerce')\n",
    "    \n",
    "    # Remove NaN\n",
    "    data = data.dropna(subset=[dt])\n",
    "\n",
    "    max_val = data[dt].max()\n",
    "    min_val = data[dt].min()\n",
    "    range_val = max_val - min_val\n",
    "    mean = round(data[dt].mean(),2)\n",
    "    mode = round(statistics.mode(data[dt]),2)\n",
    "    var = round(np.nanvar(data[dt],ddof=1),2)\n",
    "    std = round(var ** 0.5,2)\n",
    "\n",
    "    print(f\"Max of {dt.title()} : {max_val}\")\n",
    "    print(f\"Min of {dt.title()} : {min_val}\")\n",
    "    print(f\"Range of {dt.title()} : {range_val}\")\n",
    "    print(f\"Mean of {dt.title()} : {mean}\")\n",
    "    print(f\"Mode of {dt.title()} : {mode}\")\n",
    "    print(f\"Variance of {dt.title()} : {var}\")\n",
    "    print(f\"Standard Deviance of {dt.title()} : {std}\\n\")"
   ]
  },
  {
   "cell_type": "code",
   "execution_count": null,
   "id": "e5255f04-cc67-46c2-9fa4-777793a2673d",
   "metadata": {},
   "outputs": [],
   "source": []
  }
 ],
 "metadata": {
  "kernelspec": {
   "display_name": "Python [conda env:base] *",
   "language": "python",
   "name": "conda-base-py"
  },
  "language_info": {
   "codemirror_mode": {
    "name": "ipython",
    "version": 3
   },
   "file_extension": ".py",
   "mimetype": "text/x-python",
   "name": "python",
   "nbconvert_exporter": "python",
   "pygments_lexer": "ipython3",
   "version": "3.12.7"
  }
 },
 "nbformat": 4,
 "nbformat_minor": 5
}
